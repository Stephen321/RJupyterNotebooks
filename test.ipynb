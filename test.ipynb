{
 "cells": [
  {
   "cell_type": "markdown",
   "metadata": {},
   "source": [
    "## Hi \n",
    "\n",
    "this is a test"
   ]
  },
  {
   "cell_type": "code",
   "execution_count": null,
   "metadata": {},
   "outputs": [],
   "source": [
    "a <- c(\"hi\", \"there\")\n",
    "b <- c(\"giulia\")"
   ]
  },
  {
   "cell_type": "code",
   "execution_count": null,
   "metadata": {},
   "outputs": [],
   "source": [
    "paste(append(a, b))"
   ]
  },
  {
   "cell_type": "markdown",
   "metadata": {},
   "source": [
    "Let's read in some data"
   ]
  },
  {
   "cell_type": "code",
   "execution_count": 12,
   "metadata": {},
   "outputs": [],
   "source": [
    "data <- read.delim(\"expression.txt\")"
   ]
  },
  {
   "cell_type": "code",
   "execution_count": 13,
   "metadata": {},
   "outputs": [
    {
     "data": {
      "text/html": [
       "<table>\n",
       "<caption>A data.frame: 6 × 6</caption>\n",
       "<thead>\n",
       "\t<tr><th></th><th scope=col>Probe</th><th scope=col>Chromosome</th><th scope=col>Start</th><th scope=col>End</th><th scope=col>Strand</th><th scope=col>Expression</th></tr>\n",
       "\t<tr><th></th><th scope=col>&lt;fct&gt;</th><th scope=col>&lt;fct&gt;</th><th scope=col>&lt;int&gt;</th><th scope=col>&lt;int&gt;</th><th scope=col>&lt;fct&gt;</th><th scope=col>&lt;dbl&gt;</th></tr>\n",
       "</thead>\n",
       "<tbody>\n",
       "\t<tr><th scope=row>1</th><td>Xkr4  </td><td>1</td><td>3195982</td><td>3661579</td><td>-</td><td>-5.037614</td></tr>\n",
       "\t<tr><th scope=row>2</th><td>Gm1992</td><td>1</td><td>3456668</td><td>3503634</td><td>+</td><td>-2.167190</td></tr>\n",
       "\t<tr><th scope=row>3</th><td>Rp1   </td><td>1</td><td>4334224</td><td>4350473</td><td>-</td><td>-6.964203</td></tr>\n",
       "\t<tr><th scope=row>4</th><td>Sox17 </td><td>1</td><td>4481009</td><td>4486494</td><td>-</td><td>-2.672370</td></tr>\n",
       "\t<tr><th scope=row>5</th><td>Mrpl15</td><td>1</td><td>4763287</td><td>4775820</td><td>-</td><td> 3.347706</td></tr>\n",
       "\t<tr><th scope=row>6</th><td>Lypla1</td><td>1</td><td>4797869</td><td>4876851</td><td>+</td><td> 1.833350</td></tr>\n",
       "</tbody>\n",
       "</table>\n"
      ],
      "text/latex": [
       "A data.frame: 6 × 6\n",
       "\\begin{tabular}{r|llllll}\n",
       "  & Probe & Chromosome & Start & End & Strand & Expression\\\\\n",
       "  & <fct> & <fct> & <int> & <int> & <fct> & <dbl>\\\\\n",
       "\\hline\n",
       "\t1 & Xkr4   & 1 & 3195982 & 3661579 & - & -5.037614\\\\\n",
       "\t2 & Gm1992 & 1 & 3456668 & 3503634 & + & -2.167190\\\\\n",
       "\t3 & Rp1    & 1 & 4334224 & 4350473 & - & -6.964203\\\\\n",
       "\t4 & Sox17  & 1 & 4481009 & 4486494 & - & -2.672370\\\\\n",
       "\t5 & Mrpl15 & 1 & 4763287 & 4775820 & - &  3.347706\\\\\n",
       "\t6 & Lypla1 & 1 & 4797869 & 4876851 & + &  1.833350\\\\\n",
       "\\end{tabular}\n"
      ],
      "text/markdown": [
       "\n",
       "A data.frame: 6 × 6\n",
       "\n",
       "| <!--/--> | Probe &lt;fct&gt; | Chromosome &lt;fct&gt; | Start &lt;int&gt; | End &lt;int&gt; | Strand &lt;fct&gt; | Expression &lt;dbl&gt; |\n",
       "|---|---|---|---|---|---|---|\n",
       "| 1 | Xkr4   | 1 | 3195982 | 3661579 | - | -5.037614 |\n",
       "| 2 | Gm1992 | 1 | 3456668 | 3503634 | + | -2.167190 |\n",
       "| 3 | Rp1    | 1 | 4334224 | 4350473 | - | -6.964203 |\n",
       "| 4 | Sox17  | 1 | 4481009 | 4486494 | - | -2.672370 |\n",
       "| 5 | Mrpl15 | 1 | 4763287 | 4775820 | - |  3.347706 |\n",
       "| 6 | Lypla1 | 1 | 4797869 | 4876851 | + |  1.833350 |\n",
       "\n"
      ],
      "text/plain": [
       "  Probe  Chromosome Start   End     Strand Expression\n",
       "1 Xkr4   1          3195982 3661579 -      -5.037614 \n",
       "2 Gm1992 1          3456668 3503634 +      -2.167190 \n",
       "3 Rp1    1          4334224 4350473 -      -6.964203 \n",
       "4 Sox17  1          4481009 4486494 -      -2.672370 \n",
       "5 Mrpl15 1          4763287 4775820 -       3.347706 \n",
       "6 Lypla1 1          4797869 4876851 +       1.833350 "
      ]
     },
     "metadata": {},
     "output_type": "display_data"
    }
   ],
   "source": [
    "head(data)"
   ]
  },
  {
   "cell_type": "code",
   "execution_count": 6,
   "metadata": {},
   "outputs": [
    {
     "data": {
      "text/plain": [
       "           Probe         Chromosome        Start                End           \n",
       " Flg          :    5   2      : 2428   Min.   :     2751   Min.   :     3707  \n",
       " Spnb5        :    4   7      : 2246   1st Qu.: 35981399   1st Qu.: 36016941  \n",
       " Muc19        :    3   11     : 2135   Median : 74367494   Median : 74412070  \n",
       " Nkain2       :    3   4      : 1797   Mean   : 75742911   Mean   : 75784564  \n",
       " 4732440D04Rik:    2   5      : 1510   3rd Qu.:110159606   3rd Qu.:110213795  \n",
       " 4922502B01Rik:    2   1      : 1407   Max.   :196963005   Max.   :197002909  \n",
       " (Other)      :26108   (Other):14604                                          \n",
       " Strand      Expression     \n",
       " -:13014   Min.   :-9.7430  \n",
       " +:13113   1st Qu.:-4.0718  \n",
       "           Median :-1.1646  \n",
       "           Mean   :-0.6527  \n",
       "           3rd Qu.: 2.7854  \n",
       "           Max.   :11.3210  \n",
       "                            "
      ]
     },
     "metadata": {},
     "output_type": "display_data"
    }
   ],
   "source": [
    "summary(data)"
   ]
  },
  {
   "cell_type": "code",
   "execution_count": 16,
   "metadata": {},
   "outputs": [],
   "source": [
    "test.data <- data.frame(cola=c(10, 2, 101, 25, 34, 51), colb=c(57, 29, 54, 66, 10, 6))"
   ]
  },
  {
   "cell_type": "code",
   "execution_count": 17,
   "metadata": {},
   "outputs": [
    {
     "data": {
      "text/html": [
       "<table>\n",
       "<caption>A data.frame: 6 × 2</caption>\n",
       "<thead>\n",
       "\t<tr><th></th><th scope=col>cola</th><th scope=col>colb</th></tr>\n",
       "\t<tr><th></th><th scope=col>&lt;dbl&gt;</th><th scope=col>&lt;dbl&gt;</th></tr>\n",
       "</thead>\n",
       "<tbody>\n",
       "\t<tr><th scope=row>1</th><td> 10</td><td>57</td></tr>\n",
       "\t<tr><th scope=row>2</th><td>  2</td><td>29</td></tr>\n",
       "\t<tr><th scope=row>3</th><td>101</td><td>54</td></tr>\n",
       "\t<tr><th scope=row>4</th><td> 25</td><td>66</td></tr>\n",
       "\t<tr><th scope=row>5</th><td> 34</td><td>10</td></tr>\n",
       "\t<tr><th scope=row>6</th><td> 51</td><td> 6</td></tr>\n",
       "</tbody>\n",
       "</table>\n"
      ],
      "text/latex": [
       "A data.frame: 6 × 2\n",
       "\\begin{tabular}{r|ll}\n",
       "  & cola & colb\\\\\n",
       "  & <dbl> & <dbl>\\\\\n",
       "\\hline\n",
       "\t1 &  10 & 57\\\\\n",
       "\t2 &   2 & 29\\\\\n",
       "\t3 & 101 & 54\\\\\n",
       "\t4 &  25 & 66\\\\\n",
       "\t5 &  34 & 10\\\\\n",
       "\t6 &  51 &  6\\\\\n",
       "\\end{tabular}\n"
      ],
      "text/markdown": [
       "\n",
       "A data.frame: 6 × 2\n",
       "\n",
       "| <!--/--> | cola &lt;dbl&gt; | colb &lt;dbl&gt; |\n",
       "|---|---|---|\n",
       "| 1 |  10 | 57 |\n",
       "| 2 |   2 | 29 |\n",
       "| 3 | 101 | 54 |\n",
       "| 4 |  25 | 66 |\n",
       "| 5 |  34 | 10 |\n",
       "| 6 |  51 |  6 |\n",
       "\n"
      ],
      "text/plain": [
       "  cola colb\n",
       "1  10  57  \n",
       "2   2  29  \n",
       "3 101  54  \n",
       "4  25  66  \n",
       "5  34  10  \n",
       "6  51   6  "
      ]
     },
     "metadata": {},
     "output_type": "display_data"
    }
   ],
   "source": [
    "head(test.data)"
   ]
  },
  {
   "cell_type": "code",
   "execution_count": 19,
   "metadata": {},
   "outputs": [
    {
     "data": {
      "image/png": "[encoded data removed]",
      "text/plain": [
       "plot without title"
      ]
     },
     "metadata": {
      "image/png": {
       "height": 420,
       "width": 420
      },
      "text/plain": {
       "height": 420,
       "width": 420
      }
     },
     "output_type": "display_data"
    }
   ],
   "source": [
    "barplot(rowMeans(test.data), col=rainbow(6))"
   ]
  }
 ],
 "metadata": {
  "kernelspec": {
   "display_name": "R",
   "language": "R",
   "name": "ir"
  },
  "language_info": {
   "codemirror_mode": "r",
   "file_extension": ".r",
   "mimetype": "text/x-r-source",
   "name": "R",
   "pygments_lexer": "r",
   "version": "3.6.3"
  }
 },
 "nbformat": 4,
 "nbformat_minor": 4
}
